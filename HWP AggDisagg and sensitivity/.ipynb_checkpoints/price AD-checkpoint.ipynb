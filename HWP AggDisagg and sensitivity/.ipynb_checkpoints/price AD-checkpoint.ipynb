{
 "cells": [
  {
   "cell_type": "markdown",
   "id": "da98c9d1-3950-4aa5-89a9-67f8345d59bd",
   "metadata": {},
   "source": [
    "# This notebook contains the functions used to disaggregate the price data received from the ETM model for use in the HWP model"
   ]
  },
  {
   "cell_type": "code",
   "execution_count": 2,
   "id": "5ca1514f",
   "metadata": {},
   "outputs": [],
   "source": [
    "import pandas as pd\n",
    "import numpy as np\n",
    "import matplotlib.pyplot as plt"
   ]
  },
  {
   "cell_type": "code",
   "execution_count": 3,
   "id": "c9ef4d04",
   "metadata": {},
   "outputs": [],
   "source": [
    "df = pd.read_csv('electricity_price.csv', usecols = ['Price (Euros)'])"
   ]
  },
  {
   "cell_type": "code",
   "execution_count": 4,
   "id": "80e89aaf",
   "metadata": {},
   "outputs": [
    {
     "data": {
      "text/html": [
       "<div>\n",
       "<style scoped>\n",
       "    .dataframe tbody tr th:only-of-type {\n",
       "        vertical-align: middle;\n",
       "    }\n",
       "\n",
       "    .dataframe tbody tr th {\n",
       "        vertical-align: top;\n",
       "    }\n",
       "\n",
       "    .dataframe thead th {\n",
       "        text-align: right;\n",
       "    }\n",
       "</style>\n",
       "<table border=\"1\" class=\"dataframe\">\n",
       "  <thead>\n",
       "    <tr style=\"text-align: right;\">\n",
       "      <th></th>\n",
       "      <th>Price (Euros)</th>\n",
       "    </tr>\n",
       "  </thead>\n",
       "  <tbody>\n",
       "    <tr>\n",
       "      <th>0</th>\n",
       "      <td>45.0</td>\n",
       "    </tr>\n",
       "    <tr>\n",
       "      <th>1</th>\n",
       "      <td>45.0</td>\n",
       "    </tr>\n",
       "    <tr>\n",
       "      <th>2</th>\n",
       "      <td>45.0</td>\n",
       "    </tr>\n",
       "    <tr>\n",
       "      <th>3</th>\n",
       "      <td>45.0</td>\n",
       "    </tr>\n",
       "    <tr>\n",
       "      <th>4</th>\n",
       "      <td>45.0</td>\n",
       "    </tr>\n",
       "  </tbody>\n",
       "</table>\n",
       "</div>"
      ],
      "text/plain": [
       "   Price (Euros)\n",
       "0           45.0\n",
       "1           45.0\n",
       "2           45.0\n",
       "3           45.0\n",
       "4           45.0"
      ]
     },
     "execution_count": 4,
     "metadata": {},
     "output_type": "execute_result"
    }
   ],
   "source": [
    "df.head()\n"
   ]
  },
  {
   "cell_type": "markdown",
   "id": "d3eb5a86",
   "metadata": {},
   "source": [
    "No A/D required on price data"
   ]
  },
  {
   "cell_type": "code",
   "execution_count": 5,
   "id": "e4e50414",
   "metadata": {},
   "outputs": [],
   "source": [
    "#df.to_csv('electricity_price_AD.csv',index=False)"
   ]
  }
 ],
 "metadata": {
  "kernelspec": {
   "display_name": "Python 3 (ipykernel)",
   "language": "python",
   "name": "python3"
  },
  "language_info": {
   "codemirror_mode": {
    "name": "ipython",
    "version": 3
   },
   "file_extension": ".py",
   "mimetype": "text/x-python",
   "name": "python",
   "nbconvert_exporter": "python",
   "pygments_lexer": "ipython3",
   "version": "3.9.7"
  }
 },
 "nbformat": 4,
 "nbformat_minor": 5
}
